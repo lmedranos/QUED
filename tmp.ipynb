{
 "cells": [
  {
   "cell_type": "markdown",
   "id": "0fd0b463",
   "metadata": {},
   "source": [
    "# Select 10 lowest-energy conformers"
   ]
  },
  {
   "cell_type": "code",
   "execution_count": 4,
   "id": "f837ebaa",
   "metadata": {},
   "outputs": [
    {
     "name": "stdout",
     "output_type": "stream",
     "text": [
      "  15\n",
      "\n"
     ]
    }
   ],
   "source": [
    "import os\n",
    "\n",
    "input = '/home/ahinostrozac/Documents/programs/Research/unilu/QUED/crest_conformers.xyz'\n",
    "output = '/home/ahinostrozac/Documents/programs/Research/unilu/QUED/m1301.xyz'\n",
    "max_conformers = 10\n",
    "\n",
    "outFile = open(output, 'w')\n",
    "\n",
    "with open(input, 'r') as inputFile:\n",
    "    lines = inputFile.readlines()\n",
    "    line0 = lines[0]\n",
    "    n = 0 # counter of conformers\n",
    "\n",
    "    print(line0)\n",
    "    for line in lines:\n",
    "        if line.startswith(line0):\n",
    "            n += 1\n",
    "            if n>max_conformers:\n",
    "                break\n",
    "        outFile.write(line)"
   ]
  },
  {
   "cell_type": "code",
   "execution_count": 2,
   "id": "6b94e9d9",
   "metadata": {},
   "outputs": [
    {
     "data": {
      "text/plain": [
       "(['C', 'C', 'C', 'C', 'S', 'H', 'H', 'H', 'H', 'H', 'H', 'H', 'H', 'H', 'H'],\n",
       " array([[-3.08759953, -0.43627137,  0.0224845 ],\n",
       "        [-1.89239253,  0.50882936, -0.0079197 ],\n",
       "        [-0.57125506, -0.25916698, -0.00461352],\n",
       "        [ 0.61629632,  0.68753418, -0.04368589],\n",
       "        [ 2.21883035, -0.19460359,  0.0479132 ],\n",
       "        [-3.0802857 , -1.08950451, -0.84708589],\n",
       "        [-4.01742242,  0.12689954,  0.02162822],\n",
       "        [-3.06116487, -1.0554844 ,  0.9161999 ],\n",
       "        [-1.94404234,  1.13356686, -0.90242732],\n",
       "        [-1.92788078,  1.16952464,  0.86099492],\n",
       "        [-0.53618478, -0.92399009, -0.8712101 ],\n",
       "        [-0.50853896, -0.877616  ,  0.89342811],\n",
       "        [ 0.62191145,  1.29073549, -0.95143642],\n",
       "        [ 0.61914184,  1.34982817,  0.82193392],\n",
       "        [ 2.05407897, -0.90227763, -1.0642628 ]]))"
      ]
     },
     "execution_count": 2,
     "metadata": {},
     "output_type": "execute_result"
    }
   ],
   "source": [
    "import numpy as np\n",
    "from ase.io import read\n",
    "\n",
    "def get_atomic_numbers_n_coordinates(inputFile, index):\n",
    "    ofile = open('tmp.xyz', 'w')\n",
    "    with open(inputFile, 'r') as ifile:\n",
    "        lines = ifile.readlines()\n",
    "        line0 = lines[0]\n",
    "\n",
    "        # Count total conformers\n",
    "        total_conformers = sum(1 for line in lines if line.startswith(line0))\n",
    "        if index >= total_conformers:\n",
    "            return np.zeros(10), np.zeros(10)\n",
    "\n",
    "        n = -1\n",
    "        Z, xyz = [], []\n",
    "        for line in lines:\n",
    "            # count one conformer\n",
    "            if line.startswith(line0):\n",
    "                n += 1\n",
    "            # find <index>th conformer\n",
    "            if n==index:\n",
    "                ofile.write(line)\n",
    "                tokens = [x.strip('\\n') for x in line.split(' ') if len(x)>0]\n",
    "                if len(tokens)==4:\n",
    "                    # extract atomic symbols\n",
    "                    Z.append(tokens[0])\n",
    "                    # extract atomic coordinates\n",
    "                    coor = [float(tokens[1]), float(tokens[2]), float(tokens[3])]\n",
    "                    xyz.append(coor)\n",
    "            elif n>index:\n",
    "                break\n",
    "            else:\n",
    "                continue\n",
    "    return Z, np.array(xyz)\n",
    "\n",
    "input = '/home/ahinostrozac/Documents/programs/Research/unilu/QUED/crest_conformers.xyz'\n",
    "get_atomic_numbers_n_coordinates(input, 0)"
   ]
  },
  {
   "cell_type": "code",
   "execution_count": null,
   "id": "5201305d",
   "metadata": {},
   "outputs": [
    {
     "ename": "UnknownFileTypeError",
     "evalue": "Empty file: tmp.xyz",
     "output_type": "error",
     "traceback": [
      "\u001b[0;31m---------------------------------------------------------------------------\u001b[0m",
      "\u001b[0;31mUnknownFileTypeError\u001b[0m                      Traceback (most recent call last)",
      "Cell \u001b[0;32mIn[15], line 36\u001b[0m\n\u001b[1;32m     33\u001b[0m     \u001b[38;5;28;01mreturn\u001b[39;00m Z, xyz\n\u001b[1;32m     35\u001b[0m \u001b[38;5;28minput\u001b[39m \u001b[38;5;241m=\u001b[39m \u001b[38;5;124m'\u001b[39m\u001b[38;5;124m/home/ahinostrozac/Documents/programs/Research/unilu/QUED/crest_conformers.xyz\u001b[39m\u001b[38;5;124m'\u001b[39m\n\u001b[0;32m---> 36\u001b[0m Z, xyz \u001b[38;5;241m=\u001b[39m \u001b[43mget_atomic_numbers_n_coordinates\u001b[49m\u001b[43m(\u001b[49m\u001b[38;5;28;43minput\u001b[39;49m\u001b[43m,\u001b[49m\u001b[43m \u001b[49m\u001b[38;5;241;43m17\u001b[39;49m\u001b[43m)\u001b[49m\n\u001b[1;32m     37\u001b[0m mol \u001b[38;5;241m=\u001b[39m Atoms(Z, xyz)\n",
      "Cell \u001b[0;32mIn[15], line 29\u001b[0m, in \u001b[0;36mget_atomic_numbers_n_coordinates\u001b[0;34m(inputFile, index)\u001b[0m\n\u001b[1;32m     26\u001b[0m             \u001b[38;5;28;01mcontinue\u001b[39;00m\n\u001b[1;32m     27\u001b[0m ofile\u001b[38;5;241m.\u001b[39mclose()\n\u001b[0;32m---> 29\u001b[0m atoms \u001b[38;5;241m=\u001b[39m \u001b[43mread\u001b[49m\u001b[43m(\u001b[49m\u001b[38;5;124;43m'\u001b[39;49m\u001b[38;5;124;43mtmp.xyz\u001b[39;49m\u001b[38;5;124;43m'\u001b[39;49m\u001b[43m)\u001b[49m\n\u001b[1;32m     30\u001b[0m Z \u001b[38;5;241m=\u001b[39m atoms\u001b[38;5;241m.\u001b[39mget_atomic_numbers()\n\u001b[1;32m     31\u001b[0m xyz \u001b[38;5;241m=\u001b[39m atoms\u001b[38;5;241m.\u001b[39mget_positions()\n",
      "File \u001b[0;32m~/anaconda3/envs/unilu/lib/python3.9/site-packages/ase/io/formats.py:793\u001b[0m, in \u001b[0;36mread\u001b[0;34m(filename, index, format, parallel, do_not_split_by_at_sign, **kwargs)\u001b[0m\n\u001b[1;32m    791\u001b[0m \u001b[38;5;28;01mif\u001b[39;00m index \u001b[38;5;129;01mis\u001b[39;00m \u001b[38;5;28;01mNone\u001b[39;00m:\n\u001b[1;32m    792\u001b[0m     index \u001b[38;5;241m=\u001b[39m \u001b[38;5;241m-\u001b[39m\u001b[38;5;241m1\u001b[39m\n\u001b[0;32m--> 793\u001b[0m \u001b[38;5;28mformat\u001b[39m \u001b[38;5;241m=\u001b[39m \u001b[38;5;28mformat\u001b[39m \u001b[38;5;129;01mor\u001b[39;00m \u001b[43mfiletype\u001b[49m\u001b[43m(\u001b[49m\u001b[43mfilename\u001b[49m\u001b[43m,\u001b[49m\u001b[43m \u001b[49m\u001b[43mread\u001b[49m\u001b[38;5;241;43m=\u001b[39;49m\u001b[38;5;28;43misinstance\u001b[39;49m\u001b[43m(\u001b[49m\u001b[43mfilename\u001b[49m\u001b[43m,\u001b[49m\u001b[43m \u001b[49m\u001b[38;5;28;43mstr\u001b[39;49m\u001b[43m)\u001b[49m\u001b[43m)\u001b[49m\n\u001b[1;32m    795\u001b[0m io \u001b[38;5;241m=\u001b[39m get_ioformat(\u001b[38;5;28mformat\u001b[39m)\n\u001b[1;32m    796\u001b[0m \u001b[38;5;28;01mif\u001b[39;00m \u001b[38;5;28misinstance\u001b[39m(index, (\u001b[38;5;28mslice\u001b[39m, \u001b[38;5;28mstr\u001b[39m)):\n",
      "File \u001b[0;32m~/anaconda3/envs/unilu/lib/python3.9/site-packages/ase/io/formats.py:980\u001b[0m, in \u001b[0;36mfiletype\u001b[0;34m(filename, read, guess)\u001b[0m\n\u001b[1;32m    977\u001b[0m     fd\u001b[38;5;241m.\u001b[39mseek(\u001b[38;5;241m0\u001b[39m)\n\u001b[1;32m    979\u001b[0m \u001b[38;5;28;01mif\u001b[39;00m \u001b[38;5;28mlen\u001b[39m(data) \u001b[38;5;241m==\u001b[39m \u001b[38;5;241m0\u001b[39m:\n\u001b[0;32m--> 980\u001b[0m     \u001b[38;5;28;01mraise\u001b[39;00m UnknownFileTypeError(\u001b[38;5;124m'\u001b[39m\u001b[38;5;124mEmpty file: \u001b[39m\u001b[38;5;124m'\u001b[39m \u001b[38;5;241m+\u001b[39m filename)\n\u001b[1;32m    982\u001b[0m \u001b[38;5;28;01mtry\u001b[39;00m:\n\u001b[1;32m    983\u001b[0m     \u001b[38;5;28;01mreturn\u001b[39;00m match_magic(data)\u001b[38;5;241m.\u001b[39mname\n",
      "\u001b[0;31mUnknownFileTypeError\u001b[0m: Empty file: tmp.xyz"
     ]
    }
   ],
   "source": [
    "import numpy as np\n",
    "from ase.io import read\n",
    "from ase.atoms import Atoms\n",
    "import os\n",
    "\n",
    "def get_atomic_numbers_n_coordinates(inputFile, index):\n",
    "    ofile = open('tmp.xyz', 'w')\n",
    "    with open(inputFile, 'r') as ifile:\n",
    "        lines = ifile.readlines()\n",
    "        line0 = lines[0]\n",
    "\n",
    "        # Count total conformers\n",
    "        total_conformers = sum(1 for line in lines if line.startswith(line0))\n",
    "        if index >= total_conformers:\n",
    "            return np.zeros(10), np.zeros(10)\n",
    "\n",
    "        n = -1\n",
    "        for line in lines:\n",
    "            # count one conformer\n",
    "            if line.startswith(line0):\n",
    "                n += 1\n",
    "            # find <index>th conformer\n",
    "            if n==index:    ofile.write(line)\n",
    "            elif n>index:   break\n",
    "            else:           continue\n",
    "    ofile.close()\n",
    "    \n",
    "    # get atomic number and positions of conformer\n",
    "    atoms = read('tmp.xyz')\n",
    "    Z = atoms.get_atomic_numbers()\n",
    "    xyz = atoms.get_positions()\n",
    "    os.remove('tmp.xyz')\n",
    "    return Z, xyz\n",
    "\n",
    "input = '/home/ahinostrozac/Documents/programs/Research/unilu/QUED/crest_conformers.xyz'\n",
    "Z, xyz = get_atomic_numbers_n_coordinates(input, 17)\n",
    "mol = Atoms(Z, xyz)"
   ]
  },
  {
   "cell_type": "markdown",
   "id": "9806d52c",
   "metadata": {},
   "source": [
    "# Get xyz and Z for dftb calculations"
   ]
  },
  {
   "cell_type": "code",
   "execution_count": 1,
   "id": "b11280d2",
   "metadata": {},
   "outputs": [],
   "source": [
    "import os\n",
    "\n",
    "import numpy as np\n",
    "import random\n",
    "import math\n",
    "\n",
    "from ase.atoms import Atoms\n",
    "from ase.calculators.dftb import Dftb\n",
    "from ase.units import Hartree, Bohr\n",
    "                "
   ]
  },
  {
   "cell_type": "code",
   "execution_count": null,
   "id": "44cfc4f6",
   "metadata": {},
   "outputs": [
    {
     "name": "stdout",
     "output_type": "stream",
     "text": [
      "0\n"
     ]
    },
    {
     "data": {
      "text/plain": [
       "(['C', 'C', 'C', 'C', 'S', 'H', 'H', 'H', 'H', 'H', 'H', 'H', 'H', 'H', 'H'],\n",
       " array([[-3.08759953, -0.43627137,  0.0224845 ],\n",
       "        [-1.89239253,  0.50882936, -0.0079197 ],\n",
       "        [-0.57125506, -0.25916698, -0.00461352],\n",
       "        [ 0.61629632,  0.68753418, -0.04368589],\n",
       "        [ 2.21883035, -0.19460359,  0.0479132 ],\n",
       "        [-3.0802857 , -1.08950451, -0.84708589],\n",
       "        [-4.01742242,  0.12689954,  0.02162822],\n",
       "        [-3.06116487, -1.0554844 ,  0.9161999 ],\n",
       "        [-1.94404234,  1.13356686, -0.90242732],\n",
       "        [-1.92788078,  1.16952464,  0.86099492],\n",
       "        [-0.53618478, -0.92399009, -0.8712101 ],\n",
       "        [-0.50853896, -0.877616  ,  0.89342811],\n",
       "        [ 0.62191145,  1.29073549, -0.95143642],\n",
       "        [ 0.61914184,  1.34982817,  0.82193392],\n",
       "        [ 2.05407897, -0.90227763, -1.0642628 ]]))"
      ]
     },
     "execution_count": 14,
     "metadata": {},
     "output_type": "execute_result"
    }
   ],
   "source": [
    "# get xyz and Z arrays from xyz file\n",
    "def get_xyz(inputFile, index):\n",
    "    with open(inputFile, 'r') as ifile:\n",
    "        lines = ifile.readlines()\n",
    "        line0 = lines[0]\n",
    "\n",
    "        n = 0\n",
    "        Z, xyz = [], []\n",
    "        for line in lines:\n",
    "            # count one conformer\n",
    "            if line.startswith(line0):\n",
    "                n += 1\n",
    "            # find <index>th conformer\n",
    "            if n==index:\n",
    "                tokens = [x.strip('\\n') for x in line.split(' ') if len(x)>0]\n",
    "                if len(tokens)==4:\n",
    "                    # extract atomic symbols\n",
    "                    Z.append(tokens[0])\n",
    "                    # extract atomic coordinates\n",
    "                    coor = [float(tokens[1]), float(tokens[2]), float(tokens[3])]\n",
    "                    xyz.append(coor)\n",
    "            elif n>index:\n",
    "                break\n",
    "            else:\n",
    "                continue\n",
    "    return Z, np.array(xyz)\n",
    "\n",
    "filename = '/home/ahinostrozac/Documents/programs/Research/unilu/QUED/crest_conformers.xyz'\n",
    "get_xyz(filename, 1)    "
   ]
  },
  {
   "cell_type": "markdown",
   "id": "0c435ca5",
   "metadata": {},
   "source": [
    "# Read xgboost results"
   ]
  },
  {
   "cell_type": "code",
   "execution_count": 2,
   "id": "9288864c",
   "metadata": {},
   "outputs": [
    {
     "name": "stdout",
     "output_type": "stream",
     "text": [
      "Keys in file: ['hyperparams', 'X_train_idxs', 'X_test_idxs', 'y_train', 'y_test', 'train_predictions', 'test_predictions']\n",
      "Type of hyperparams entry: <class 'dict'>\n",
      "Raw hyperparams value: {'colsample_bytree': 0.5, 'learning_rate': 0.008, 'max_depth': 11, 'min_child_weight': 2, 'n_estimators': 4000, 'reg_alpha': 0.0036850278790095843, 'reg_lambda': 0.015910219986510248, 'subsample': 0.7000000000000001}\n"
     ]
    }
   ],
   "source": [
    "import numpy as np\n",
    "\n",
    "filename = '/home/ahinostrozac/Documents/programs/Research/unilu/tox2/xgb/minenergy/bob/all/5000/5000pts.npz'\n",
    "data = np.load(filename, allow_pickle=True)\n",
    "\n",
    "print(\"Keys in file:\", data.files)\n",
    "print(\"Type of hyperparams entry:\", type(data['hyperparams'][()]))\n",
    "print(\"Raw hyperparams value:\", data['hyperparams'])"
   ]
  },
  {
   "cell_type": "code",
   "execution_count": 10,
   "id": "ca0c6a9f",
   "metadata": {},
   "outputs": [
    {
     "data": {
      "text/plain": [
       "array([2.401, 1.974, 1.901, ..., 1.486, 2.236, 2.437], dtype=float32)"
      ]
     },
     "execution_count": 10,
     "metadata": {},
     "output_type": "execute_result"
    }
   ],
   "source": [
    "data['test_predictions']"
   ]
  },
  {
   "cell_type": "code",
   "execution_count": 11,
   "id": "1660cc30",
   "metadata": {},
   "outputs": [
    {
     "data": {
      "text/plain": [
       "['weights',\n",
       " 'hyperparams',\n",
       " 'X_train_idxs',\n",
       " 'X_val_idxs',\n",
       " 'X_test_idxs',\n",
       " 'y_train',\n",
       " 'y_val',\n",
       " 'y_test',\n",
       " 'val_predictions',\n",
       " 'test_predictions']"
      ]
     },
     "execution_count": 11,
     "metadata": {},
     "output_type": "execute_result"
    }
   ],
   "source": [
    "\n",
    "filename = '/home/ahinostrozac/Documents/programs/Research/unilu/tox2/krr/minenergy/bob/all/gau/5000/5000pts.npz'\n",
    "data = np.load(filename, allow_pickle=True)\n",
    "list(data.keys())"
   ]
  },
  {
   "cell_type": "code",
   "execution_count": 12,
   "id": "82d760a8",
   "metadata": {},
   "outputs": [
    {
     "data": {
      "text/plain": [
       "array({'alpha': 0.00044691627612702305, 'beta': None, 'ker1_metric': 'minkowski', 'ker1_metric_kwargs': {'p': 2.0}, 'ker1_pow': None, 'ker1_type': 'gau', 'ker2_metric': None, 'ker2_metric_kwargs': None, 'ker2_pow': None, 'ker2_type': None, 'sigma1': 9051.54696666997, 'sigma2': None},\n",
       "      dtype=object)"
      ]
     },
     "execution_count": 12,
     "metadata": {},
     "output_type": "execute_result"
    }
   ],
   "source": [
    "data['hyperparams']"
   ]
  }
 ],
 "metadata": {
  "kernelspec": {
   "display_name": "unilu",
   "language": "python",
   "name": "python3"
  },
  "language_info": {
   "codemirror_mode": {
    "name": "ipython",
    "version": 3
   },
   "file_extension": ".py",
   "mimetype": "text/x-python",
   "name": "python",
   "nbconvert_exporter": "python",
   "pygments_lexer": "ipython3",
   "version": "3.9.18"
  }
 },
 "nbformat": 4,
 "nbformat_minor": 5
}
